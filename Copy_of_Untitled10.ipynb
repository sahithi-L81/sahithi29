{
  "nbformat": 4,
  "nbformat_minor": 0,
  "metadata": {
    "colab": {
      "provenance": [],
      "toc_visible": true,
      "authorship_tag": "ABX9TyM0AjdRQJBMnz1KPelcVenm",
      "include_colab_link": true
    },
    "kernelspec": {
      "name": "python3",
      "display_name": "Python 3"
    },
    "language_info": {
      "name": "python"
    }
  },
  "cells": [
    {
      "cell_type": "markdown",
      "metadata": {
        "id": "view-in-github",
        "colab_type": "text"
      },
      "source": [
        "<a href=\"https://colab.research.google.com/github/sahithi-L81/sahithi29/blob/main/Copy_of_Untitled10.ipynb\" target=\"_parent\"><img src=\"https://colab.research.google.com/assets/colab-badge.svg\" alt=\"Open In Colab\"/></a>"
      ]
    },
    {
      "cell_type": "code",
      "execution_count": null,
      "metadata": {
        "colab": {
          "base_uri": "https://localhost:8080/"
        },
        "id": "gdJC0HLkMEWq",
        "outputId": "ee2189f4-e130-4f40-ead3-a937028e199f"
      },
      "outputs": [
        {
          "output_type": "stream",
          "name": "stdout",
          "text": [
            "hello, world!\n"
          ]
        }
      ],
      "source": [
        "text = \"Hello, World!\"\n",
        "lowercase_text = text.lower()\n",
        "\n",
        "print(lowercase_text)  # Output: \"hello, world!\""
      ]
    },
    {
      "cell_type": "code",
      "source": [
        "import string\n",
        "\n",
        "PUNCT_TO_REMOVE = string.punctuation\n",
        "\n",
        "def remove_punctuation(text):\n",
        "    # Remove punctuation using str.translate and remove extra spaces with split and join\n",
        "    return ' '.join(text.translate(str.maketrans('', '', PUNCT_TO_REMOVE)).split())\n",
        "\n",
        "text = \"I'm having a lot of punctuations!!.@@@@@ All special characters will be removed *&&& ;) :) Is it so ? ## Yes :( I will.\"\n",
        "print(remove_punctuation(text))"
      ],
      "metadata": {
        "colab": {
          "base_uri": "https://localhost:8080/"
        },
        "id": "YhQqe3leMHMQ",
        "outputId": "f6ad3ffd-b855-43f9-9443-d9a381132ad1"
      },
      "execution_count": null,
      "outputs": [
        {
          "output_type": "stream",
          "name": "stdout",
          "text": [
            "Im having a lot of punctuations All special characters will be removed Is it so Yes I will\n"
          ]
        }
      ]
    },
    {
      "cell_type": "code",
      "source": [
        "import nltk\n",
        "from nltk.corpus import stopwords\n",
        "\n",
        "# Download the stopwords if not already downloaded\n",
        "nltk.download('stopwords')\n",
        "\n",
        "# Define the list of stopwords\n",
        "stoplist = set(stopwords.words('english'))\n",
        "\n",
        "# Input text\n",
        "text = \"The rose is a beautiful flower and it smells amazing.\"\n",
        "\n",
        "print(\"\\nOriginal text:\")\n",
        "print(text)\n",
        "\n",
        "# Remove stopwords\n",
        "clean_words = [word for word in text.split() if word.lower() not in stoplist]\n",
        "\n",
        "# Join the filtered words back into a string\n",
        "filtered_text = ' '.join(clean_words)\n",
        "\n",
        "print(\"\\nText after removing stopwords:\")\n",
        "print(filtered_text)"
      ],
      "metadata": {
        "colab": {
          "base_uri": "https://localhost:8080/"
        },
        "id": "Gqxw2rTHNAJY",
        "outputId": "3ba53c25-4eeb-4756-e3c7-fe8da38b6707"
      },
      "execution_count": null,
      "outputs": [
        {
          "output_type": "stream",
          "name": "stdout",
          "text": [
            "\n",
            "Original text:\n",
            "The rose is a beautiful flower and it smells amazing.\n",
            "\n",
            "Text after removing stopwords:\n",
            "rose beautiful flower smells amazing.\n"
          ]
        },
        {
          "output_type": "stream",
          "name": "stderr",
          "text": [
            "[nltk_data] Downloading package stopwords to /root/nltk_data...\n",
            "[nltk_data]   Unzipping corpora/stopwords.zip.\n"
          ]
        }
      ]
    },
    {
      "cell_type": "code",
      "source": [
        "\n",
        "import re\n",
        "\n",
        "# Example text with emojis\n",
        "text = \"Hello 🌟! How are you 😊? Let's meet at 6:00 PM 🕕.\"\n",
        "\n",
        "print(\"Original Text:\")\n",
        "print(text)\n",
        "\n",
        "# Regular expression to match emojis\n",
        "emoji_pattern = re.compile(\"[\"\n",
        "                           u\"\\U0001F600-\\U0001F64F\"  # Emoticons\n",
        "                           u\"\\U0001F300-\\U0001F5FF\"  # Symbols & pictographs\n",
        "                           u\"\\U0001F680-\\U0001F6FF\"  # Transport & map symbols\n",
        "                           u\"\\U0001F700-\\U0001F77F\"  # Alchemical symbols\n",
        "                           u\"\\U0001F780-\\U0001F7FF\"  # Geometric shapes\n",
        "                           u\"\\U0001F800-\\U0001F8FF\"  # Supplemental arrows\n",
        "                           u\"\\U0001F900-\\U0001F9FF\"  # Supplemental symbols & pictographs\n",
        "                           u\"\\U0001FA00-\\U0001FA6F\"  # Chess symbols\n",
        "                           u\"\\U0001FA70-\\U0001FAFF\"  # Symbols & pictographs extended-A\n",
        "                           u\"\\U00002702-\\U000027B0\"  # Dingbats\n",
        "                           u\"\\U000024C2-\\U0001F251\"  # Enclosed characters\n",
        "                           \"]+\", flags=re.UNICODE)\n",
        "\n",
        "# Removing emojis\n",
        "cleaned_text = emoji_pattern.sub(r'', text)\n",
        "\n",
        "print(\"\\nText after removing emojis:\")\n",
        "print(cleaned_text)"
      ],
      "metadata": {
        "colab": {
          "base_uri": "https://localhost:8080/"
        },
        "id": "lD2kuoIXNHi4",
        "outputId": "1d60e4af-3979-458e-c64e-26453d132d2e"
      },
      "execution_count": null,
      "outputs": [
        {
          "output_type": "stream",
          "name": "stdout",
          "text": [
            "Original Text:\n",
            "Hello 🌟! How are you 😊? Let's meet at 6:00 PM 🕕.\n",
            "\n",
            "Text after removing emojis:\n",
            "Hello ! How are you ? Let's meet at 6:00 PM .\n"
          ]
        }
      ]
    }
  ]
}