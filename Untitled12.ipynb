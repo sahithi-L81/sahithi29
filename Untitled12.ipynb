{
  "nbformat": 4,
  "nbformat_minor": 0,
  "metadata": {
    "colab": {
      "provenance": [],
      "authorship_tag": "ABX9TyMKdrF42Wu1kAc3YT0PC/bI",
      "include_colab_link": true
    },
    "kernelspec": {
      "name": "python3",
      "display_name": "Python 3"
    },
    "language_info": {
      "name": "python"
    }
  },
  "cells": [
    {
      "cell_type": "markdown",
      "metadata": {
        "id": "view-in-github",
        "colab_type": "text"
      },
      "source": [
        "<a href=\"https://colab.research.google.com/github/sahithi-L81/sahithi29/blob/main/Untitled12.ipynb\" target=\"_parent\"><img src=\"https://colab.research.google.com/assets/colab-badge.svg\" alt=\"Open In Colab\"/></a>"
      ]
    },
    {
      "cell_type": "code",
      "execution_count": 1,
      "metadata": {
        "id": "1qnGc0j777WC"
      },
      "outputs": [],
      "source": [
        "from sklearn.feature_extraction.text import CountVectorizer\n",
        "import pandas as pd\n",
        "import matplotlib.pyplot as plt\n",
        "import seaborn as sns"
      ]
    },
    {
      "cell_type": "code",
      "source": [
        "corpus = [\n",
        "    \"The cat sat on the mat\",\n",
        "    \"The dog sat on the log\",\n",
        "    \"The cat chased the dog\",\n",
        "    \"The dog barked at the cat\",\n",
        "    \"The cat and the dog played together\"\n",
        "]\n"
      ],
      "metadata": {
        "id": "AjDjvgqf8Hf1"
      },
      "execution_count": 2,
      "outputs": []
    },
    {
      "cell_type": "code",
      "source": [
        "vectorizer = CountVectorizer()\n",
        "X = vectorizer.fit_transform(corpus)\n",
        "\n",
        "# Convert the result into a DataFrame for better visualization\n",
        "import pandas as pd\n",
        "term_document_matrix = pd.DataFrame(X.toarray(), columns=vectorizer.get_feature_names_out())\n",
        "print(term_document_matrix)"
      ],
      "metadata": {
        "colab": {
          "base_uri": "https://localhost:8080/"
        },
        "id": "xJ4bKpLV8a8W",
        "outputId": "beedce94-9539-4c3d-bbb6-5bc269069958"
      },
      "execution_count": 3,
      "outputs": [
        {
          "output_type": "stream",
          "name": "stdout",
          "text": [
            "   and  at  barked  cat  chased  dog  log  mat  on  played  sat  the  together\n",
            "0    0   0       0    1       0    0    0    1   1       0    1    2         0\n",
            "1    0   0       0    0       0    1    1    0   1       0    1    2         0\n",
            "2    0   0       0    1       1    1    0    0   0       0    0    2         0\n",
            "3    0   1       1    1       0    1    0    0   0       0    0    2         0\n",
            "4    1   0       0    1       0    1    0    0   0       1    0    2         1\n"
          ]
        }
      ]
    },
    {
      "cell_type": "code",
      "source": [
        "import nltk\n",
        "from nltk.corpus import stopwords\n",
        "from sklearn.feature_extraction.text import CountVectorizer\n",
        "\n",
        "# Make sure to download the NLTK stopwords (if not already downloaded)\n",
        "nltk.download('stopwords')\n",
        "\n",
        "stop_words = set(stopwords.words('english'))\n",
        "\n",
        "# simple preprocessing function to remove stopwords\n",
        "def preprocess(doc):\n",
        "    return ' '.join([word for word in doc.split() if word.lower() not in stop_words])\n",
        "\n",
        "# Apply preprocessing to the corpus\n",
        "preprocessed_corpus = [preprocess(doc) for doc in corpus]\n",
        "\n",
        "# Apply CountVectorizer from scikit-learn to convert text into BoW representation\n",
        "vectorizer = CountVectorizer()\n",
        "X = vectorizer.fit_transform(preprocessed_corpus)\n",
        "\n",
        "term_document_matrix = pd.DataFrame(X.toarray(), columns=vectorizer.get_feature_names_out())\n",
        "print(term_document_matrix)"
      ],
      "metadata": {
        "colab": {
          "base_uri": "https://localhost:8080/"
        },
        "id": "kecnpg2k8_vZ",
        "outputId": "bf6ed440-66f7-4afc-f3d4-4782c190b931"
      },
      "execution_count": 6,
      "outputs": [
        {
          "output_type": "stream",
          "name": "stdout",
          "text": [
            "   barked  cat  chased  dog  log  mat  played  sat  together\n",
            "0       0    1       0    0    0    1       0    1         0\n",
            "1       0    0       0    1    1    0       0    1         0\n",
            "2       0    1       1    1    0    0       0    0         0\n",
            "3       1    1       0    1    0    0       0    0         0\n",
            "4       0    1       0    1    0    0       1    0         1\n"
          ]
        },
        {
          "output_type": "stream",
          "name": "stderr",
          "text": [
            "[nltk_data] Downloading package stopwords to /root/nltk_data...\n",
            "[nltk_data]   Unzipping corpora/stopwords.zip.\n"
          ]
        }
      ]
    },
    {
      "cell_type": "code",
      "source": [
        "import seaborn as sns\n",
        "import matplotlib.pyplot as plt\n",
        "\n",
        "# Plotting the heatmap\n",
        "plt.figure(figsize=(10, 6))\n",
        "sns.heatmap(term_document_matrix, annot=True, cmap='Blues', cbar=False)\n",
        "plt.title(\"Term-Document Matrix Heatmap\")\n",
        "plt.xlabel(\"Terms\")\n",
        "plt.ylabel(\"Documents\")\n",
        "plt.show()\n"
      ],
      "metadata": {
        "colab": {
          "base_uri": "https://localhost:8080/",
          "height": 564
        },
        "id": "oi89irYC8uK5",
        "outputId": "16043e4a-7329-46c2-d378-f30eefc92d79"
      },
      "execution_count": 5,
      "outputs": [
        {
          "output_type": "display_data",
          "data": {
            "text/plain": [
              "<Figure size 1000x600 with 1 Axes>"
            ],
            "image/png": "[encoded data removed]"
          },
          "metadata": {}
        }
      ]
    },
    {
      "cell_type": "code",
      "source": [],
      "metadata": {
        "id": "zt1-x2078yqn"
      },
      "execution_count": null,
      "outputs": []
    }
  ]
}